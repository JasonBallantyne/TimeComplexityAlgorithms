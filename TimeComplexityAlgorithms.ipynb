{
 "cells": [
  {
   "cell_type": "code",
   "execution_count": 1,
   "metadata": {},
   "outputs": [],
   "source": [
    "import timeit\n",
    "import matplotlib.pyplot as plt\n",
    "import random\n",
    "import numpy as np\n",
    "from time import perf_counter\n",
    "from scipy.optimize import curve_fit\n",
    "from numpy import arange\n",
    "from numpy import sin\n",
    "from numpy import sqrt"
   ]
  },
  {
   "cell_type": "markdown",
   "metadata": {},
   "source": [
    "## COMP20230 - Data Structures & Algorithms\n",
    "### Assignment 1"
   ]
  },
  {
   "cell_type": "markdown",
   "metadata": {},
   "source": [
    "### Task 1"
   ]
  },
  {
   "cell_type": "markdown",
   "metadata": {},
   "source": [
    "In order to compute the factorial of a positive integer n, we must first understand what is meant by factorial of a positive integer. The factorial of a positive integer n, denoted by n!, is the product of all positive integers less than or equal to n."
   ]
  },
  {
   "cell_type": "markdown",
   "metadata": {},
   "source": [
    "To calculate the factorial of a positive integer n, I would carry out the following 8 steps:"
   ]
  },
  {
   "cell_type": "markdown",
   "metadata": {},
   "source": [
    "- 1: Input a number n"
   ]
  },
  {
   "cell_type": "markdown",
   "metadata": {},
   "source": [
    "- 2: Set variable final as 1"
   ]
  },
  {
   "cell_type": "markdown",
   "metadata": {},
   "source": [
    "- 3: Final <= final * n"
   ]
  },
  {
   "cell_type": "markdown",
   "metadata": {},
   "source": [
    "- 4: Decrease n"
   ]
  },
  {
   "cell_type": "markdown",
   "metadata": {},
   "source": [
    "- 5: Check if n is equal to 0"
   ]
  },
  {
   "cell_type": "markdown",
   "metadata": {},
   "source": [
    "- 6: If n is equal to zero, goto step 8 (break out of loop)"
   ]
  },
  {
   "cell_type": "markdown",
   "metadata": {},
   "source": [
    "- 7: Else go to step 3"
   ]
  },
  {
   "cell_type": "markdown",
   "metadata": {},
   "source": [
    "- 8: Print the result final"
   ]
  },
  {
   "cell_type": "markdown",
   "metadata": {},
   "source": [
    "### Task 2"
   ]
  },
  {
   "cell_type": "markdown",
   "metadata": {},
   "source": [
    "- For different values of n, we will be computing and plotting the running time as a function of n for non-tail recursion, tail recursion and an iterative approach."
   ]
  },
  {
   "cell_type": "code",
   "execution_count": 2,
   "metadata": {},
   "outputs": [],
   "source": [
    "# A tail recursive function to compute the factorial\n",
    "\n",
    "def tail(n, a = 1):\n",
    " \n",
    "    if (n == 0):\n",
    "        return a\n",
    "    \n",
    "    return tail(n - 1, n * a)"
   ]
  },
  {
   "cell_type": "code",
   "execution_count": 3,
   "metadata": {},
   "outputs": [],
   "source": [
    "# A non-tail-recursive function to compute the factorial.\n",
    "\n",
    "# The function is not tail recursion because the value returned by fact(n-1) \n",
    "# is used in fact(n) and calling to fact(n-1) is not the last thing done by fact(n)\n",
    "\n",
    "def nontail(n):\n",
    " \n",
    "    if (n == 0):\n",
    "        return 1\n",
    " \n",
    "    return n * nontail(n-1)"
   ]
  },
  {
   "cell_type": "code",
   "execution_count": 4,
   "metadata": {},
   "outputs": [],
   "source": [
    "# An iterative function for computing the factorial of a number.\n",
    "\n",
    "def iterative(n):\n",
    "    fact = 1\n",
    "    for num in range(2, n + 1):\n",
    "        fact *= num\n",
    "    return fact"
   ]
  },
  {
   "cell_type": "code",
   "execution_count": 5,
   "metadata": {},
   "outputs": [
    {
     "data": {
      "image/png": "[encoded data removed]",
      "text/plain": [
       "<Figure size 432x288 with 1 Axes>"
      ]
     },
     "metadata": {
      "needs_background": "light"
     },
     "output_type": "display_data"
    }
   ],
   "source": [
    "# Computing and Plotting the running time of tail recursion, non-tail recursion and the iterative approach.\n",
    "\n",
    "i = 10\n",
    "tailValues = []\n",
    "nonTailValues = []\n",
    "itValues = []\n",
    "nValue = []\n",
    "while i < 2000:\n",
    "    # Calculating the average tail recursion time after 500 runs\n",
    "    tailTimer = (timeit.timeit(f\"tail({i})\", \"from __main__ import tail,i\", number=500))/500\n",
    "    tailValues.append(tailTimer)\n",
    "    # Calculating the average non-tail recursion time after 500 runs\n",
    "    nonTailTimer = (timeit.timeit(f\"nontail({i})\", \"from __main__ import nontail,i\", number=500))/500\n",
    "    nonTailValues.append(nonTailTimer)\n",
    "    # Calculating the average iterative function time after 500 runs\n",
    "    iterativeTimer = (timeit.timeit(f\"iterative({i})\", \"from __main__ import iterative,i\", number=500))/500\n",
    "    itValues.append(iterativeTimer)\n",
    "    # Appending nValue to store each of the factorial values\n",
    "    nValue.append(i)\n",
    "    i += 200\n",
    "    \n",
    "    \n",
    "plt.xlabel('Value for n') \n",
    "plt.ylabel('Execution time in secs') \n",
    "plt.plot(nValue, tailValues, label='Tail Recursion')\n",
    "plt.plot(nValue, nonTailValues, label='Non Tail Recursion')\n",
    "plt.plot(nValue, itValues, label='Iterative Approach')\n",
    "plt.grid() \n",
    "plt.legend()\n",
    "plt.savefig(\"FactorialPlots_Task2\")\n",
    "plt.show()"
   ]
  },
  {
   "cell_type": "markdown",
   "metadata": {},
   "source": [
    "### Task 3"
   ]
  },
  {
   "cell_type": "markdown",
   "metadata": {},
   "source": [
    " - Using a sequence obtained from task 2 (nValue), we will be implementing the linear search and the iterative binary search methods."
   ]
  },
  {
   "cell_type": "code",
   "execution_count": 6,
   "metadata": {},
   "outputs": [
    {
     "name": "stdout",
     "output_type": "stream",
     "text": [
      "The data is present at index:  4\n"
     ]
    }
   ],
   "source": [
    "# Implementing linear search to find data in nValue\n",
    "\n",
    "# If data is present then return its location,\n",
    "# otherwise return -1\n",
    "\n",
    "# We will be using nValue (list of factorials) as our input for the search algorithm\n",
    "\n",
    "def linear(arr, n, x):\n",
    " \n",
    "    for i in range(0, n):\n",
    "        if (arr[i] == x):\n",
    "            return i\n",
    "    return -1\n",
    "\n",
    "\n",
    "data = 810\n",
    "length = len(nValue)\n",
    " \n",
    "num = linear(nValue, length, data)\n",
    "if(num == -1):\n",
    "    print(\"The data is not present in the array\")\n",
    "else:\n",
    "    print(\"The data is present at index: \", num)"
   ]
  },
  {
   "cell_type": "code",
   "execution_count": 7,
   "metadata": {},
   "outputs": [
    {
     "name": "stdout",
     "output_type": "stream",
     "text": [
      "The data is present at index:  7\n"
     ]
    }
   ],
   "source": [
    "# Implementing iterative binary search to find data in nValue\n",
    "# The data must be sorted to apply binary search. \n",
    "# As we have created the nValue array, we already know this is sorted.\n",
    "\n",
    "# It returns index of data in nValue if present,\n",
    "# else returns -1\n",
    "\n",
    "# We will be using nValue (list of factorials) as our input for the search algorithm\n",
    "\n",
    "def iterativeBinary(arr, y):\n",
    "    low = 0\n",
    "    high = len(arr) - 1\n",
    "    mid = 0\n",
    " \n",
    "    while low <= high:\n",
    " \n",
    "        mid = (high + low) // 2\n",
    " \n",
    "        # If y is greater, ignore left half\n",
    "        if arr[mid] < y:\n",
    "            low = mid + 1\n",
    " \n",
    "        # If y is smaller, ignore right half\n",
    "        elif arr[mid] > y:\n",
    "            high = mid - 1\n",
    " \n",
    "        # means y is present at mid\n",
    "        else:\n",
    "            return mid\n",
    " \n",
    "    # If we reach here, then the element was not present\n",
    "    return -1\n",
    " \n",
    "data = 1410\n",
    " \n",
    "# Function call\n",
    "num = iterativeBinary(nValue, data)\n",
    " \n",
    "if num != -1:\n",
    "    print(\"The data is present at index: \", num)\n",
    "else:\n",
    "    print(\"The data is not present in the array\")"
   ]
  },
  {
   "cell_type": "markdown",
   "metadata": {},
   "source": [
    "### Task 4"
   ]
  },
  {
   "cell_type": "markdown",
   "metadata": {},
   "source": [
    "- Please see the best and worst running times for both the linear search and iterative binary search listed below."
   ]
  },
  {
   "cell_type": "markdown",
   "metadata": {},
   "source": [
    "#### Linear Search\n",
    "- Best running time: O(1)\n",
    "- Worst running time: O(n)"
   ]
  },
  {
   "cell_type": "markdown",
   "metadata": {},
   "source": [
    "#### Iterative Binary Search\n",
    "- Best running time: O(1)\n",
    "- Worst running time: O(log n)"
   ]
  },
  {
   "cell_type": "markdown",
   "metadata": {},
   "source": [
    "- We will attempt to demonstrate these best and worst running times by plotting the running times as a function of n\n",
    "- We will generate a random sorted list to create 8 arrays and group them under one larger array\n",
    "- We will loop over these arrays, looking for the best and worst case of each method. We will time each function and plot the best and worst case in the hope of recreating the best and worst running times above."
   ]
  },
  {
   "cell_type": "code",
   "execution_count": 8,
   "metadata": {},
   "outputs": [],
   "source": [
    "# Function to generate a sorted list of random numbers in a given range with unique elements\n",
    "\n",
    "def createRandomSortedList(num, start = 1, end = 100): \n",
    "    arr = [] \n",
    "    tmp = random.randint(start, end) \n",
    "      \n",
    "    for x in range(num): \n",
    "          \n",
    "        while tmp in arr: \n",
    "            tmp = random.randint(start, end) \n",
    "              \n",
    "        arr.append(tmp) \n",
    "          \n",
    "    arr.sort() \n",
    "      \n",
    "    return arr"
   ]
  },
  {
   "cell_type": "code",
   "execution_count": 9,
   "metadata": {},
   "outputs": [],
   "source": [
    "# Calling the createRandomSortedList function once and creating 8 arrays off of it using slicing.\n",
    "# These arrays will be used as examples to plot the running time as a function of n\n",
    "\n",
    "arr1 = createRandomSortedList(200, 0, 1000)\n",
    "arr2 = arr1[:175]\n",
    "arr3 = arr1[:150]\n",
    "arr4 = arr1[:125]\n",
    "arr5 = arr1[:100]\n",
    "arr6 = arr1[:75]\n",
    "arr7 = arr1[:50]\n",
    "arr8 = arr1[:25]\n",
    "\n",
    "totalArr = [arr1, arr2, arr3, arr4, arr5, arr6, arr7, arr8]"
   ]
  },
  {
   "cell_type": "code",
   "execution_count": 10,
   "metadata": {},
   "outputs": [
    {
     "data": {
      "image/png": "[encoded data removed]",
      "text/plain": [
       "<Figure size 432x288 with 1 Axes>"
      ]
     },
     "metadata": {
      "needs_background": "light"
     },
     "output_type": "display_data"
    }
   ],
   "source": [
    "bestLinTime = []\n",
    "bestLinInd = []\n",
    "worstLinTime = []\n",
    "worstLinInd = []\n",
    "array = len(totalArr)\n",
    "\n",
    "\n",
    "for x in range(array):\n",
    "    latest = totalArr[x]\n",
    "    firstIndex = latest[0]\n",
    "    lastIndex = latest[len(latest)-1]\n",
    "    bTime = 0\n",
    "    wTime = 0\n",
    "    \n",
    "    for x in range(100):\n",
    "        start3 = perf_counter()\n",
    "        linear(latest, len(latest), firstIndex)\n",
    "        stop3 = perf_counter()\n",
    "        bTime += stop3 - start3\n",
    "        \n",
    "        start4 = perf_counter()\n",
    "        linear(latest, len(latest), lastIndex)\n",
    "        stop4 = perf_counter()\n",
    "        wTime += stop4 - start4\n",
    "        \n",
    "    bestLinTime.append(bTime/100)\n",
    "    bestLinInd.append(len(latest))\n",
    "    worstLinTime.append(wTime)\n",
    "    worstLinInd.append(len(latest))\n",
    "    \n",
    "plt.xlabel('Length of Arrays') \n",
    "plt.ylabel('Execution time in secs') \n",
    "plt.plot(bestLinInd, bestLinTime, label = \"Best Case Linear Search\")\n",
    "plt.plot(worstLinInd, worstLinTime, label = \"Worst Case Linear Search\")\n",
    "\n",
    "plt.grid() \n",
    "plt.legend()\n",
    "plt.savefig(\"Linear_Task4\")\n",
    "plt.show()"
   ]
  },
  {
   "cell_type": "code",
   "execution_count": 11,
   "metadata": {},
   "outputs": [
    {
     "data": {
      "image/png": "[encoded data removed]",
      "text/plain": [
       "<Figure size 432x288 with 1 Axes>"
      ]
     },
     "metadata": {
      "needs_background": "light"
     },
     "output_type": "display_data"
    }
   ],
   "source": [
    "bestBinTime = []\n",
    "bestBinInd = []\n",
    "worstBinTime = []\n",
    "worstBinInd = []\n",
    "array = len(totalArr)\n",
    "\n",
    "for x in range(array):\n",
    "    latest = totalArr[x]\n",
    "    firstInd = latest[0]\n",
    "    midpoint = latest[len(latest)//2]\n",
    "    bTime = 0\n",
    "    wTime = 0\n",
    "    \n",
    "    for x in range(100):\n",
    "        start1 = perf_counter()\n",
    "        iterativeBinary(latest, midpoint)\n",
    "        stop1 = perf_counter()\n",
    "        bTime += stop1 - start1\n",
    "        \n",
    "        start2 = perf_counter()\n",
    "        iterativeBinary(latest, firstInd)\n",
    "        stop2 = perf_counter()\n",
    "        wTime += stop2 - start2\n",
    "        \n",
    "    bestBinTime.append(bTime/100)\n",
    "    bestBinInd.append(len(latest))\n",
    "    worstBinTime.append(wTime)\n",
    "    worstBinInd.append(len(latest))\n",
    "    \n",
    "plt.xlabel('Length of Arrays') \n",
    "plt.ylabel('Execution time in secs') \n",
    "plt.plot(bestBinInd, bestBinTime, label = \"Best Case Binary Search\")\n",
    "plt.plot(worstBinInd, worstBinTime, label = \"Worst Case Binary Search\")\n",
    "\n",
    "plt.grid()\n",
    "plt.legend()\n",
    "plt.savefig(\"Binary_Task4\")\n",
    "plt.show()"
   ]
  },
  {
   "cell_type": "markdown",
   "metadata": {},
   "source": [
    "### Task 5"
   ]
  },
  {
   "cell_type": "markdown",
   "metadata": {},
   "source": [
    "Using curve fitting algorithms to find the equation of the running times for the following examples.\n",
    "- Tail Recursion\n",
    "- Non-Tail Recursion\n",
    "- Iterative Approach\n",
    "- Worst Case Linear Search\n",
    "- Worst Case Binary Search"
   ]
  },
  {
   "cell_type": "markdown",
   "metadata": {},
   "source": [
    "A combination of Second Degree Polynomial and a Straight Line Fit graphs will be used for each algorithm, please see below for details.\n",
    "- Second Degree Polynomial (Tail Recursion, Non-Tail Recursion, Iterative Approach, Worst Case Binary Search)\n",
    "- Straight Line Fit (Worst Case Linear Search)"
   ]
  },
  {
   "cell_type": "code",
   "execution_count": 12,
   "metadata": {},
   "outputs": [],
   "source": [
    "# Second Degree Polynomial\n",
    "\n",
    "def secDegree(x, a, b, c):\n",
    "    return a * x + b * x**2 + c"
   ]
  },
  {
   "cell_type": "code",
   "execution_count": 13,
   "metadata": {},
   "outputs": [],
   "source": [
    "# Straight Line Fit\n",
    "\n",
    "def strtFit(x, a, b):\n",
    "    return a * x + b"
   ]
  },
  {
   "cell_type": "markdown",
   "metadata": {},
   "source": [
    "### Tail Recursion - Second Degree Polynomial"
   ]
  },
  {
   "cell_type": "code",
   "execution_count": 14,
   "metadata": {},
   "outputs": [
    {
     "data": {
      "image/png": "[encoded data removed]",
      "text/plain": [
       "<Figure size 432x288 with 1 Axes>"
      ]
     },
     "metadata": {
      "needs_background": "light"
     },
     "output_type": "display_data"
    }
   ],
   "source": [
    "# Using curve fitting algroithm to find the equation of Tail Recursion\n",
    "# Using Second Degree Polynomial\n",
    "\n",
    "x, y = nValue, tailValues\n",
    "# Using second degree polynomial\n",
    "popt, _ = curve_fit(secDegree, x, y)\n",
    "a, b, c = popt\n",
    "\n",
    "plt.scatter(x, y)\n",
    "\n",
    "x_line = arange(min(x), max(x), 1)\n",
    "y_line = secDegree(x_line, a, b, c)\n",
    "\n",
    "plt.xlabel('Value for n') \n",
    "plt.ylabel('Execution time in secs') \n",
    "plt.plot(x_line, y_line, '--', color='red', label = 'Tail Recursion')\n",
    "plt.grid() \n",
    "plt.legend()\n",
    "plt.savefig(\"TailEquation_Task5\")\n",
    "plt.show()"
   ]
  },
  {
   "cell_type": "code",
   "execution_count": 15,
   "metadata": {},
   "outputs": [
    {
     "name": "stdout",
     "output_type": "stream",
     "text": [
      "The equation of Tail Recursion Algorithm: \n",
      "-3.4009714992297614e-07 * (x) + 6.552274628002715e-10  * (x^2) + 8.417362099736399e-05\n"
     ]
    }
   ],
   "source": [
    "# Equation of Tail Recursion algorithm\n",
    "\n",
    "print(\"The equation of Tail Recursion Algorithm: \")\n",
    "print(a, \"* (x) +\", b,\" * (x^2) +\", c)"
   ]
  },
  {
   "cell_type": "markdown",
   "metadata": {},
   "source": [
    "##### Testing the equation of Tail Recursion with an x value\n",
    "- We will sub in an x value to validate our equation\n",
    "- The answer to our equation should be similar to our y value"
   ]
  },
  {
   "cell_type": "code",
   "execution_count": 16,
   "metadata": {},
   "outputs": [
    {
     "name": "stdout",
     "output_type": "stream",
     "text": [
      "The calculated y value using the x value 610 on our equation :\n",
      "0.00012052449845232957\n",
      "The plotted y value : \n",
      "0.00021209960000000017\n"
     ]
    }
   ],
   "source": [
    "print(\"The calculated y value using the x value 610 on our equation :\")\n",
    "print(a * 610 + b * (610**2) + c )\n",
    "print(\"The plotted y value : \")\n",
    "print(tailValues[3])"
   ]
  },
  {
   "cell_type": "markdown",
   "metadata": {},
   "source": [
    "### Non-Tail Recursion - Second Degree Polynomial"
   ]
  },
  {
   "cell_type": "code",
   "execution_count": 17,
   "metadata": {},
   "outputs": [
    {
     "data": {
      "image/png": "[encoded data removed]",
      "text/plain": [
       "<Figure size 432x288 with 1 Axes>"
      ]
     },
     "metadata": {
      "needs_background": "light"
     },
     "output_type": "display_data"
    }
   ],
   "source": [
    "# Using curve fitting algroithm to find the equation of Non-Tail Recursion\n",
    "# Using Second Degree Polynomial\n",
    "\n",
    "x, y = nValue, nonTailValues\n",
    "# Using second degree polynomial\n",
    "popt, _ = curve_fit(secDegree, x, y)\n",
    "a, b, c = popt\n",
    "\n",
    "plt.scatter(x, y)\n",
    "\n",
    "x_line = arange(min(x), max(x), 1)\n",
    "y_line = secDegree(x_line, a, b, c)\n",
    "\n",
    "plt.xlabel('Value for n') \n",
    "plt.ylabel('Execution time in secs') \n",
    "plt.plot(x_line, y_line, '--', color='red', label = 'Non-Tail Recursion')\n",
    "plt.grid() \n",
    "plt.legend()\n",
    "plt.savefig(\"NonTailEquation_Task5\")\n",
    "plt.show()"
   ]
  },
  {
   "cell_type": "code",
   "execution_count": 18,
   "metadata": {},
   "outputs": [
    {
     "name": "stdout",
     "output_type": "stream",
     "text": [
      "The equation of Non-Tail Recursion Algorithm: \n",
      "9.358213472075826e-08 * (x) + 2.2629482794939945e-10  * (x^2) + 6.70531718091989e-06\n"
     ]
    }
   ],
   "source": [
    "# Equation of Non-Tail Recursion algorithm\n",
    "\n",
    "print(\"The equation of Non-Tail Recursion Algorithm: \")\n",
    "print(a, \"* (x) +\", b,\" * (x^2) +\", c)"
   ]
  },
  {
   "cell_type": "markdown",
   "metadata": {},
   "source": [
    "##### Testing the equation of Non-Tail Recursion with an x value\n",
    "- We will sub in an x value to validate our equation\n",
    "- The answer to our equation should be similar to our y value"
   ]
  },
  {
   "cell_type": "code",
   "execution_count": 19,
   "metadata": {},
   "outputs": [
    {
     "name": "stdout",
     "output_type": "stream",
     "text": [
      "The calculated y value using the x value 810 on our equation :\n",
      "0.00023097888292233508\n",
      "The plotted y value : \n",
      "0.0002502887999999999\n"
     ]
    }
   ],
   "source": [
    "print(\"The calculated y value using the x value 810 on our equation :\")\n",
    "print(a * 810 + b * (810**2) + c )\n",
    "\n",
    "print(\"The plotted y value : \")\n",
    "print(nonTailValues[4])"
   ]
  },
  {
   "cell_type": "markdown",
   "metadata": {},
   "source": [
    "### Iterative Approach - Second Degree Polynomial"
   ]
  },
  {
   "cell_type": "code",
   "execution_count": 20,
   "metadata": {},
   "outputs": [
    {
     "data": {
      "image/png": "[encoded data removed]",
      "text/plain": [
       "<Figure size 432x288 with 1 Axes>"
      ]
     },
     "metadata": {
      "needs_background": "light"
     },
     "output_type": "display_data"
    }
   ],
   "source": [
    "# Using curve fitting algroithm to find the equation of the Iterative Approach\n",
    "# Using Second Degree Polynomial\n",
    "\n",
    "x, y = nValue, itValues\n",
    "# Using second degree polynomial\n",
    "popt, _ = curve_fit(secDegree, x, y)\n",
    "a, b, c = popt\n",
    "\n",
    "plt.scatter(x, y)\n",
    "\n",
    "x_line = arange(min(x), max(x), 1)\n",
    "y_line = secDegree(x_line, a, b, c)\n",
    "\n",
    "plt.xlabel('Value for n') \n",
    "plt.ylabel('Execution time in secs') \n",
    "plt.plot(x_line, y_line, '--', color='red', label = 'Iterative Approach')\n",
    "plt.grid() \n",
    "plt.legend()\n",
    "plt.savefig(\"IterativeEquation_Task5\")\n",
    "plt.show()"
   ]
  },
  {
   "cell_type": "code",
   "execution_count": 21,
   "metadata": {},
   "outputs": [
    {
     "name": "stdout",
     "output_type": "stream",
     "text": [
      "The equation of the Iterative Algorithm: \n",
      "5.369090416618924e-08 * (x) + 1.624263750426531e-10  * (x^2) + -1.0880090871089581e-06\n"
     ]
    }
   ],
   "source": [
    "# Equation of the Iterative algorithm\n",
    "\n",
    "print(\"The equation of the Iterative Algorithm: \")\n",
    "print(a, \"* (x) +\", b,\" * (x^2) +\", c)"
   ]
  },
  {
   "cell_type": "markdown",
   "metadata": {},
   "source": [
    "##### Testing the equation of Iterative Approach with an x value\n",
    "- We will sub in an x value to validate our equation\n",
    "- The answer to our equation should be similar to our y value"
   ]
  },
  {
   "cell_type": "code",
   "execution_count": 22,
   "metadata": {},
   "outputs": [
    {
     "name": "stdout",
     "output_type": "stream",
     "text": [
      "The calculated y value using the x value 210 on our equation :\n",
      "1.7350083927171783e-05\n",
      "The plotted y value : \n",
      "1.7726600000000038e-05\n"
     ]
    }
   ],
   "source": [
    "print(\"The calculated y value using the x value 210 on our equation :\")\n",
    "print(a * 210 + b * (210**2) + c )\n",
    "\n",
    "print(\"The plotted y value : \")\n",
    "print(itValues[1])"
   ]
  },
  {
   "cell_type": "markdown",
   "metadata": {},
   "source": [
    "### Worst Case Binary Search - Second Degree Polynomial"
   ]
  },
  {
   "cell_type": "code",
   "execution_count": 23,
   "metadata": {},
   "outputs": [
    {
     "data": {
      "image/png": "[encoded data removed]",
      "text/plain": [
       "<Figure size 432x288 with 1 Axes>"
      ]
     },
     "metadata": {
      "needs_background": "light"
     },
     "output_type": "display_data"
    }
   ],
   "source": [
    "# Using curve fitting algroithm to find the equation of the Worst Case Binary Search\n",
    "# Using Second Degree Polynomial\n",
    "\n",
    "x, y = worstBinInd, worstBinTime\n",
    "# Using second degree polynomial\n",
    "popt, _ = curve_fit(secDegree, x, y)\n",
    "a, b, c = popt\n",
    "\n",
    "plt.scatter(x, y)\n",
    "\n",
    "x_line = arange(min(x), max(x), 1)\n",
    "y_line = secDegree(x_line, a, b, c)\n",
    "\n",
    "plt.xlabel('Length of Arrays') \n",
    "plt.ylabel('Execution time in secs') \n",
    "plt.plot(x_line, y_line, '--', color='red', label = 'Worst Case Binary Search')\n",
    "plt.grid() \n",
    "plt.legend()\n",
    "plt.savefig(\"WorstBinaryEquation_Task5\")\n",
    "plt.show()"
   ]
  },
  {
   "cell_type": "code",
   "execution_count": 24,
   "metadata": {},
   "outputs": [
    {
     "name": "stdout",
     "output_type": "stream",
     "text": [
      "The equation of the Worst Case Binary Search Algorithm: \n",
      "6.244285908615557e-07 * (x) + -1.6171429423965692e-09  * (x^2) + 8.35749991106795e-05\n"
     ]
    }
   ],
   "source": [
    "# Equation of Worst Case Binary Search algorithm\n",
    "\n",
    "print(\"The equation of the Worst Case Binary Search Algorithm: \")\n",
    "print(a, \"* (x) +\", b,\" * (x^2) +\", c)"
   ]
  },
  {
   "cell_type": "markdown",
   "metadata": {},
   "source": [
    "##### Testing the equation of Worst Case Binary Search with an x value\n",
    "- We will sub in an x value to validate our equation\n",
    "- The answer to our equation should be similar to our y value"
   ]
  },
  {
   "cell_type": "code",
   "execution_count": 25,
   "metadata": {},
   "outputs": [
    {
     "name": "stdout",
     "output_type": "stream",
     "text": [
      "The calculated y value using the x value 150 on our equation :\n",
      "0.00014085357153599003\n",
      "The plotted y value : \n",
      "0.00014150000000867635\n"
     ]
    }
   ],
   "source": [
    "print(\"The calculated y value using the x value 150 on our equation :\")\n",
    "print(a * 150 + b * (150**2) + c )\n",
    "\n",
    "print(\"The plotted y value : \")\n",
    "print(worstBinTime[2])"
   ]
  },
  {
   "cell_type": "markdown",
   "metadata": {},
   "source": [
    "### Worst Case Linear Search - Straight Line Fit"
   ]
  },
  {
   "cell_type": "code",
   "execution_count": 26,
   "metadata": {},
   "outputs": [
    {
     "data": {
      "image/png": "[encoded data removed]",
      "text/plain": [
       "<Figure size 432x288 with 1 Axes>"
      ]
     },
     "metadata": {
      "needs_background": "light"
     },
     "output_type": "display_data"
    }
   ],
   "source": [
    "# Using curve fitting algroithm to find the equation of the Worst Case Linear Search\n",
    "# Plot of straight line fit\n",
    "\n",
    "x, y = worstLinInd, worstLinTime\n",
    "# Using straight line fit\n",
    "popt, _ = curve_fit(strtFit, x, y)\n",
    "a, b = popt\n",
    "\n",
    "plt.scatter(x, y)\n",
    "\n",
    "x_line = arange(min(x), max(x), 1)\n",
    "y_line = strtFit(x_line, a, b)\n",
    "\n",
    "plt.xlabel('Length of Arrays') \n",
    "plt.ylabel('Execution time in secs') \n",
    "plt.plot(x_line, y_line, '--', color='red', label = 'Worst Case Linear Search')\n",
    "plt.grid() \n",
    "plt.legend()\n",
    "plt.savefig(\"WorstLinearEquation_Task5\")\n",
    "plt.show()"
   ]
  },
  {
   "cell_type": "code",
   "execution_count": 27,
   "metadata": {},
   "outputs": [
    {
     "name": "stdout",
     "output_type": "stream",
     "text": [
      "The equation of the Worst Case Linear Search Algorithm: \n",
      "3.872619048184659e-06 * (x) + 6.086785707341187e-05\n"
     ]
    }
   ],
   "source": [
    "# Equation of Worst Case Linear Search\n",
    "\n",
    "print(\"The equation of the Worst Case Linear Search Algorithm: \")\n",
    "print(a, \"* (x) +\", b)"
   ]
  },
  {
   "cell_type": "markdown",
   "metadata": {},
   "source": [
    "##### Testing the equation of the Worst Case Linear Search with an x value\n",
    "- We will sub in an x value to validate our equation\n",
    "- The answer to our equation should be similar to our y value"
   ]
  },
  {
   "cell_type": "code",
   "execution_count": 28,
   "metadata": {},
   "outputs": [
    {
     "name": "stdout",
     "output_type": "stream",
     "text": [
      "The calculated y value using the x value 200 on our equation :\n",
      "0.0008353916667103436\n",
      "The plotted y value : \n",
      "0.0008227999999963487\n"
     ]
    }
   ],
   "source": [
    "print(\"The calculated y value using the x value 200 on our equation :\")\n",
    "print(a * 200 + b)\n",
    "\n",
    "print(\"The plotted y value : \")\n",
    "print(worstLinTime[0])"
   ]
  }
 ],
 "metadata": {
  "kernelspec": {
   "display_name": "Python 3",
   "language": "python",
   "name": "python3"
  },
  "language_info": {
   "codemirror_mode": {
    "name": "ipython",
    "version": 3
   },
   "file_extension": ".py",
   "mimetype": "text/x-python",
   "name": "python",
   "nbconvert_exporter": "python",
   "pygments_lexer": "ipython3",
   "version": "3.8.3"
  }
 },
 "nbformat": 4,
 "nbformat_minor": 4
}
